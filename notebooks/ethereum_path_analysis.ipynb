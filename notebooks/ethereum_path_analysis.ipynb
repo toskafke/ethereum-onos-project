{
 "cells": [
  {
   "cell_type": "code",
   "execution_count": 3,
   "metadata": {},
   "outputs": [],
   "source": [
    "import networkx as nx\n",
    "import pandas as pd\n",
    "import numpy as np"
   ]
  },
  {
   "cell_type": "code",
   "execution_count": 4,
   "metadata": {},
   "outputs": [
    {
     "data": {
      "text/plain": [
       "'C:\\\\Users\\\\djaniak\\\\Uni\\\\ONoS\\\\project'"
      ]
     },
     "execution_count": 4,
     "metadata": {},
     "output_type": "execute_result"
    }
   ],
   "source": [
    "pwd"
   ]
  },
  {
   "cell_type": "markdown",
   "metadata": {},
   "source": [
    "## Load the data"
   ]
  },
  {
   "cell_type": "code",
   "execution_count": 5,
   "metadata": {},
   "outputs": [
    {
     "name": "stderr",
     "output_type": "stream",
     "text": [
      "C:\\Users\\djaniak\\AppData\\Local\\Continuum\\anaconda3\\lib\\site-packages\\IPython\\core\\interactiveshell.py:3049: DtypeWarning: Columns (3) have mixed types. Specify dtype option on import or set low_memory=False.\n",
      "  interactivity=interactivity, compiler=compiler, result=result)\n"
     ]
    }
   ],
   "source": [
    "data_april_2019 = pd.read_csv(r'data/2019_04_01-2019_05_01.csv')"
   ]
  },
  {
   "cell_type": "code",
   "execution_count": 6,
   "metadata": {},
   "outputs": [],
   "source": [
    "data_april_2019 = data_april_2019.drop(columns=[data_april_2019.columns[0]])"
   ]
  },
  {
   "cell_type": "code",
   "execution_count": 7,
   "metadata": {},
   "outputs": [
    {
     "data": {
      "text/plain": [
       "(9501107, 5)"
      ]
     },
     "execution_count": 7,
     "metadata": {},
     "output_type": "execute_result"
    }
   ],
   "source": [
    "data_april_2019.shape"
   ]
  },
  {
   "cell_type": "code",
   "execution_count": 8,
   "metadata": {},
   "outputs": [],
   "source": [
    "data_april_2019['block_timestamp'] = pd.to_datetime(data_april_2019['block_timestamp']).dt.tz_convert(None)"
   ]
  },
  {
   "cell_type": "code",
   "execution_count": 9,
   "metadata": {},
   "outputs": [
    {
     "data": {
      "text/plain": [
       "from_address               object\n",
       "to_address                 object\n",
       "value                      object\n",
       "nonce                       int64\n",
       "block_timestamp    datetime64[ns]\n",
       "dtype: object"
      ]
     },
     "execution_count": 9,
     "metadata": {},
     "output_type": "execute_result"
    }
   ],
   "source": [
    "data_april_2019.dtypes"
   ]
  },
  {
   "cell_type": "code",
   "execution_count": 10,
   "metadata": {},
   "outputs": [
    {
     "data": {
      "text/html": [
       "<div>\n",
       "<style scoped>\n",
       "    .dataframe tbody tr th:only-of-type {\n",
       "        vertical-align: middle;\n",
       "    }\n",
       "\n",
       "    .dataframe tbody tr th {\n",
       "        vertical-align: top;\n",
       "    }\n",
       "\n",
       "    .dataframe thead th {\n",
       "        text-align: right;\n",
       "    }\n",
       "</style>\n",
       "<table border=\"1\" class=\"dataframe\">\n",
       "  <thead>\n",
       "    <tr style=\"text-align: right;\">\n",
       "      <th></th>\n",
       "      <th>from_address</th>\n",
       "      <th>to_address</th>\n",
       "      <th>value</th>\n",
       "      <th>nonce</th>\n",
       "      <th>block_timestamp</th>\n",
       "    </tr>\n",
       "  </thead>\n",
       "  <tbody>\n",
       "    <tr>\n",
       "      <th>0</th>\n",
       "      <td>0x596a2453f42d37831395907f1e807cb7f2077a20</td>\n",
       "      <td>0xddddddd1fd4e3708869c00cabe6b0b9d15181bb9</td>\n",
       "      <td>2.9e+17</td>\n",
       "      <td>9056</td>\n",
       "      <td>2019-04-08 21:15:22</td>\n",
       "    </tr>\n",
       "    <tr>\n",
       "      <th>1</th>\n",
       "      <td>0x22a8758b1746648d0928dedbbbc5d8a54dd69840</td>\n",
       "      <td>0xae76c84c9262cdb9abc0c2c8888e62db8e22a0bf</td>\n",
       "      <td>3.2033e+17</td>\n",
       "      <td>520</td>\n",
       "      <td>2019-04-08 10:30:19</td>\n",
       "    </tr>\n",
       "    <tr>\n",
       "      <th>2</th>\n",
       "      <td>0x22a8758b1746648d0928dedbbbc5d8a54dd69840</td>\n",
       "      <td>0xae76c84c9262cdb9abc0c2c8888e62db8e22a0bf</td>\n",
       "      <td>2.93865e+17</td>\n",
       "      <td>535</td>\n",
       "      <td>2019-04-08 23:04:08</td>\n",
       "    </tr>\n",
       "    <tr>\n",
       "      <th>3</th>\n",
       "      <td>0x2ee0e32d6c996e42320aa53fdd6fb65649a82e57</td>\n",
       "      <td>0x95428ac02714244929215638f8f99e9a5a43c8ed</td>\n",
       "      <td>2.4e+17</td>\n",
       "      <td>2055</td>\n",
       "      <td>2019-04-08 19:46:56</td>\n",
       "    </tr>\n",
       "    <tr>\n",
       "      <th>4</th>\n",
       "      <td>0xe6115d578dd67c9f7835209105d132e1eea6953d</td>\n",
       "      <td>0x196301b5673714fa91640fe2df34b5c05be7ab19</td>\n",
       "      <td>2e+16</td>\n",
       "      <td>455</td>\n",
       "      <td>2019-04-08 00:59:20</td>\n",
       "    </tr>\n",
       "  </tbody>\n",
       "</table>\n",
       "</div>"
      ],
      "text/plain": [
       "                                 from_address  \\\n",
       "0  0x596a2453f42d37831395907f1e807cb7f2077a20   \n",
       "1  0x22a8758b1746648d0928dedbbbc5d8a54dd69840   \n",
       "2  0x22a8758b1746648d0928dedbbbc5d8a54dd69840   \n",
       "3  0x2ee0e32d6c996e42320aa53fdd6fb65649a82e57   \n",
       "4  0xe6115d578dd67c9f7835209105d132e1eea6953d   \n",
       "\n",
       "                                   to_address        value  nonce  \\\n",
       "0  0xddddddd1fd4e3708869c00cabe6b0b9d15181bb9      2.9e+17   9056   \n",
       "1  0xae76c84c9262cdb9abc0c2c8888e62db8e22a0bf   3.2033e+17    520   \n",
       "2  0xae76c84c9262cdb9abc0c2c8888e62db8e22a0bf  2.93865e+17    535   \n",
       "3  0x95428ac02714244929215638f8f99e9a5a43c8ed      2.4e+17   2055   \n",
       "4  0x196301b5673714fa91640fe2df34b5c05be7ab19        2e+16    455   \n",
       "\n",
       "      block_timestamp  \n",
       "0 2019-04-08 21:15:22  \n",
       "1 2019-04-08 10:30:19  \n",
       "2 2019-04-08 23:04:08  \n",
       "3 2019-04-08 19:46:56  \n",
       "4 2019-04-08 00:59:20  "
      ]
     },
     "execution_count": 10,
     "metadata": {},
     "output_type": "execute_result"
    }
   ],
   "source": [
    "data_april_2019.head()"
   ]
  },
  {
   "cell_type": "code",
   "execution_count": 11,
   "metadata": {},
   "outputs": [],
   "source": [
    "data_may_2019 = pd.read_csv(r'data/2019_05_01-2019_06_01.csv')\n",
    "data_may_2019 = data_may_2019.drop(columns=[data_may_2019.columns[0]])"
   ]
  },
  {
   "cell_type": "code",
   "execution_count": 12,
   "metadata": {},
   "outputs": [],
   "source": [
    "data_may_2019['block_timestamp'] = pd.to_datetime(data_may_2019['block_timestamp']).dt.tz_convert(None)"
   ]
  },
  {
   "cell_type": "code",
   "execution_count": 13,
   "metadata": {},
   "outputs": [
    {
     "data": {
      "text/plain": [
       "(10742096, 5)"
      ]
     },
     "execution_count": 13,
     "metadata": {},
     "output_type": "execute_result"
    }
   ],
   "source": [
    "data_may_2019.shape"
   ]
  },
  {
   "cell_type": "code",
   "execution_count": 14,
   "metadata": {},
   "outputs": [
    {
     "data": {
      "text/plain": [
       "from_address               object\n",
       "to_address                 object\n",
       "value                      object\n",
       "nonce                       int64\n",
       "block_timestamp    datetime64[ns]\n",
       "dtype: object"
      ]
     },
     "execution_count": 14,
     "metadata": {},
     "output_type": "execute_result"
    }
   ],
   "source": [
    "data_may_2019.dtypes"
   ]
  },
  {
   "cell_type": "code",
   "execution_count": 13,
   "metadata": {},
   "outputs": [
    {
     "data": {
      "text/html": [
       "<div>\n",
       "<style scoped>\n",
       "    .dataframe tbody tr th:only-of-type {\n",
       "        vertical-align: middle;\n",
       "    }\n",
       "\n",
       "    .dataframe tbody tr th {\n",
       "        vertical-align: top;\n",
       "    }\n",
       "\n",
       "    .dataframe thead th {\n",
       "        text-align: right;\n",
       "    }\n",
       "</style>\n",
       "<table border=\"1\" class=\"dataframe\">\n",
       "  <thead>\n",
       "    <tr style=\"text-align: right;\">\n",
       "      <th></th>\n",
       "      <th>from_address</th>\n",
       "      <th>to_address</th>\n",
       "      <th>value</th>\n",
       "      <th>nonce</th>\n",
       "      <th>block_timestamp</th>\n",
       "    </tr>\n",
       "  </thead>\n",
       "  <tbody>\n",
       "    <tr>\n",
       "      <th>0</th>\n",
       "      <td>0x368a7b122181dcfc6e19e4379d79c6af034e238f</td>\n",
       "      <td>0xae9b8e05c22bae74d1e8db82c4af122b18050bd4</td>\n",
       "      <td>1e+16</td>\n",
       "      <td>1730</td>\n",
       "      <td>2019-05-10 13:48:23</td>\n",
       "    </tr>\n",
       "    <tr>\n",
       "      <th>1</th>\n",
       "      <td>0x461ae8c33224aceb7f1259095dd2a334ad20f322</td>\n",
       "      <td>0xd73be539d6b2076bab83ca6ba62dfe189abc6bbe</td>\n",
       "      <td>1.108e+15</td>\n",
       "      <td>990</td>\n",
       "      <td>2019-05-10 23:49:29</td>\n",
       "    </tr>\n",
       "    <tr>\n",
       "      <th>2</th>\n",
       "      <td>0x2108980bc5faee9dc7326c3d2f7198c40b6d3122</td>\n",
       "      <td>0xcbc6a023eb975a1e2630223a7959988948e664f3</td>\n",
       "      <td>1.3e+17</td>\n",
       "      <td>159</td>\n",
       "      <td>2019-05-10 22:14:26</td>\n",
       "    </tr>\n",
       "    <tr>\n",
       "      <th>3</th>\n",
       "      <td>0x5763542e5de5f524037b6c90623d00e0d6099bde</td>\n",
       "      <td>0xf4985070ce32b6b1994329df787d1acc9a2dd9e2</td>\n",
       "      <td>2.93462e+16</td>\n",
       "      <td>582</td>\n",
       "      <td>2019-05-10 22:58:26</td>\n",
       "    </tr>\n",
       "    <tr>\n",
       "      <th>4</th>\n",
       "      <td>0x2b99fe1933eb1abf4836e3da8b7b41e7fdd5f59e</td>\n",
       "      <td>0xf4985070ce32b6b1994329df787d1acc9a2dd9e2</td>\n",
       "      <td>1.83528e+16</td>\n",
       "      <td>70</td>\n",
       "      <td>2019-05-10 17:35:37</td>\n",
       "    </tr>\n",
       "  </tbody>\n",
       "</table>\n",
       "</div>"
      ],
      "text/plain": [
       "                                 from_address  \\\n",
       "0  0x368a7b122181dcfc6e19e4379d79c6af034e238f   \n",
       "1  0x461ae8c33224aceb7f1259095dd2a334ad20f322   \n",
       "2  0x2108980bc5faee9dc7326c3d2f7198c40b6d3122   \n",
       "3  0x5763542e5de5f524037b6c90623d00e0d6099bde   \n",
       "4  0x2b99fe1933eb1abf4836e3da8b7b41e7fdd5f59e   \n",
       "\n",
       "                                   to_address        value  nonce  \\\n",
       "0  0xae9b8e05c22bae74d1e8db82c4af122b18050bd4        1e+16   1730   \n",
       "1  0xd73be539d6b2076bab83ca6ba62dfe189abc6bbe    1.108e+15    990   \n",
       "2  0xcbc6a023eb975a1e2630223a7959988948e664f3      1.3e+17    159   \n",
       "3  0xf4985070ce32b6b1994329df787d1acc9a2dd9e2  2.93462e+16    582   \n",
       "4  0xf4985070ce32b6b1994329df787d1acc9a2dd9e2  1.83528e+16     70   \n",
       "\n",
       "      block_timestamp  \n",
       "0 2019-05-10 13:48:23  \n",
       "1 2019-05-10 23:49:29  \n",
       "2 2019-05-10 22:14:26  \n",
       "3 2019-05-10 22:58:26  \n",
       "4 2019-05-10 17:35:37  "
      ]
     },
     "execution_count": 13,
     "metadata": {},
     "output_type": "execute_result"
    }
   ],
   "source": [
    "data_may_2019.head()"
   ]
  },
  {
   "cell_type": "code",
   "execution_count": 14,
   "metadata": {},
   "outputs": [],
   "source": [
    "data = data_may_2019[(data_may_2019['block_timestamp'].dt.day == 1) & \n",
    "                    (data_may_2019['block_timestamp'].dt.hour == 12)]"
   ]
  },
  {
   "cell_type": "code",
   "execution_count": 36,
   "metadata": {},
   "outputs": [],
   "source": [
    "data.to_csv(\"data_may1_12.csv\", index=False)"
   ]
  },
  {
   "cell_type": "markdown",
   "metadata": {},
   "source": [
    "## Create a graph"
   ]
  },
  {
   "cell_type": "code",
   "execution_count": null,
   "metadata": {},
   "outputs": [],
   "source": [
    "# graph_april_daily = [nx.from_pandas_edgelist(data_april_2019[data_april_2019['block_timestamp'].dt.day == i], source='from_address', target='to_address', edge_attr='value') for i in range(1, 31)]"
   ]
  },
  {
   "cell_type": "code",
   "execution_count": 34,
   "metadata": {},
   "outputs": [],
   "source": [
    "graph = nx.from_pandas_edgelist(data, source='from_address', target='to_address', edge_attr=['value', 'nonce', 'block_timestamp'], create_using=nx.DiGraph)"
   ]
  },
  {
   "cell_type": "code",
   "execution_count": null,
   "metadata": {},
   "outputs": [],
   "source": [
    "nodes = data_april_2019[(data_april_2019['block_timestamp'].dt.day == 1) &\n",
    "                       (data_april_2019['block_timestamp'].dt.hour == 12)][['from_address', 'to_address']]"
   ]
  },
  {
   "cell_type": "code",
   "execution_count": 35,
   "metadata": {},
   "outputs": [
    {
     "data": {
      "text/plain": [
       "12578"
      ]
     },
     "execution_count": 35,
     "metadata": {},
     "output_type": "execute_result"
    }
   ],
   "source": [
    "len(graph)"
   ]
  },
  {
   "cell_type": "markdown",
   "metadata": {},
   "source": [
    "# Load JSON with scams"
   ]
  },
  {
   "cell_type": "code",
   "execution_count": 15,
   "metadata": {},
   "outputs": [
    {
     "data": {
      "text/html": [
       "<div>\n",
       "<style scoped>\n",
       "    .dataframe tbody tr th:only-of-type {\n",
       "        vertical-align: middle;\n",
       "    }\n",
       "\n",
       "    .dataframe tbody tr th {\n",
       "        vertical-align: top;\n",
       "    }\n",
       "\n",
       "    .dataframe thead th {\n",
       "        text-align: right;\n",
       "    }\n",
       "</style>\n",
       "<table border=\"1\" class=\"dataframe\">\n",
       "  <thead>\n",
       "    <tr style=\"text-align: right;\">\n",
       "      <th></th>\n",
       "      <th>success</th>\n",
       "      <th>result</th>\n",
       "    </tr>\n",
       "  </thead>\n",
       "  <tbody>\n",
       "    <tr>\n",
       "      <th>0x00067010f3Ae17aa53e2B4d5142DDA35380cf72D</th>\n",
       "      <td>True</td>\n",
       "      <td>[{'id': 'eccc29', 'name': 'calibra-ico.info', ...</td>\n",
       "    </tr>\n",
       "    <tr>\n",
       "      <th>0x0020731604C882cF7bF8C444BE97d17b19Ea4316</th>\n",
       "      <td>True</td>\n",
       "      <td>[{'id': '588460', 'name': 'decentralized-launc...</td>\n",
       "    </tr>\n",
       "    <tr>\n",
       "      <th>0x002Bf459dC58584D58886169EA0E80f3Ca95FFAF</th>\n",
       "      <td>True</td>\n",
       "      <td>[{'id': '0f772d', 'name': 'ethergifting.com', ...</td>\n",
       "    </tr>\n",
       "    <tr>\n",
       "      <th>0x002f0C8119C16D310342D869Ca8bF6AcE34D9c39</th>\n",
       "      <td>True</td>\n",
       "      <td>[{'id': '401749', 'name': 'eth-pay.org', 'type...</td>\n",
       "    </tr>\n",
       "    <tr>\n",
       "      <th>0x0059b14e35daB1b4EEe1e2926C7A5660dA66F747</th>\n",
       "      <td>True</td>\n",
       "      <td>[{'id': '3838c4', 'name': 'gifto.tech', 'type'...</td>\n",
       "    </tr>\n",
       "    <tr>\n",
       "      <th>...</th>\n",
       "      <td>...</td>\n",
       "      <td>...</td>\n",
       "    </tr>\n",
       "    <tr>\n",
       "      <th>rw9kHpRE52nza51KnG1ndDqw9Lo1mcQM6r</th>\n",
       "      <td>True</td>\n",
       "      <td>[{'id': 'e16be0', 'name': 'xrpcompetition.live...</td>\n",
       "    </tr>\n",
       "    <tr>\n",
       "      <th>rwjjriYwWsE3ntaMP2DasPh8LgJSZiAMig</th>\n",
       "      <td>True</td>\n",
       "      <td>[{'id': '1e8cb2', 'name': 'ripplenet.limited',...</td>\n",
       "    </tr>\n",
       "    <tr>\n",
       "      <th>rwpMvfxoodXggJ1g4qv6MWAPQqWDwQyHUW</th>\n",
       "      <td>True</td>\n",
       "      <td>[{'id': '107f07', 'name': 'crypto-generat.ml',...</td>\n",
       "    </tr>\n",
       "    <tr>\n",
       "      <th>t1KAedN3mupcum5ffF7DF5KNz27vRB9pYnr</th>\n",
       "      <td>True</td>\n",
       "      <td>[{'id': '9833a2', 'name': 'dexcompetition.site...</td>\n",
       "    </tr>\n",
       "    <tr>\n",
       "      <th>t1R2tWtBWr7Us5PSXoLJZgEPoxPbNL8uk5C</th>\n",
       "      <td>True</td>\n",
       "      <td>[{'id': '535b3d', 'name': 'bithextrade.com', '...</td>\n",
       "    </tr>\n",
       "  </tbody>\n",
       "</table>\n",
       "<p>3428 rows × 2 columns</p>\n",
       "</div>"
      ],
      "text/plain": [
       "                                            success  \\\n",
       "0x00067010f3Ae17aa53e2B4d5142DDA35380cf72D     True   \n",
       "0x0020731604C882cF7bF8C444BE97d17b19Ea4316     True   \n",
       "0x002Bf459dC58584D58886169EA0E80f3Ca95FFAF     True   \n",
       "0x002f0C8119C16D310342D869Ca8bF6AcE34D9c39     True   \n",
       "0x0059b14e35daB1b4EEe1e2926C7A5660dA66F747     True   \n",
       "...                                             ...   \n",
       "rw9kHpRE52nza51KnG1ndDqw9Lo1mcQM6r             True   \n",
       "rwjjriYwWsE3ntaMP2DasPh8LgJSZiAMig             True   \n",
       "rwpMvfxoodXggJ1g4qv6MWAPQqWDwQyHUW             True   \n",
       "t1KAedN3mupcum5ffF7DF5KNz27vRB9pYnr            True   \n",
       "t1R2tWtBWr7Us5PSXoLJZgEPoxPbNL8uk5C            True   \n",
       "\n",
       "                                                                                       result  \n",
       "0x00067010f3Ae17aa53e2B4d5142DDA35380cf72D  [{'id': 'eccc29', 'name': 'calibra-ico.info', ...  \n",
       "0x0020731604C882cF7bF8C444BE97d17b19Ea4316  [{'id': '588460', 'name': 'decentralized-launc...  \n",
       "0x002Bf459dC58584D58886169EA0E80f3Ca95FFAF  [{'id': '0f772d', 'name': 'ethergifting.com', ...  \n",
       "0x002f0C8119C16D310342D869Ca8bF6AcE34D9c39  [{'id': '401749', 'name': 'eth-pay.org', 'type...  \n",
       "0x0059b14e35daB1b4EEe1e2926C7A5660dA66F747  [{'id': '3838c4', 'name': 'gifto.tech', 'type'...  \n",
       "...                                                                                       ...  \n",
       "rw9kHpRE52nza51KnG1ndDqw9Lo1mcQM6r          [{'id': 'e16be0', 'name': 'xrpcompetition.live...  \n",
       "rwjjriYwWsE3ntaMP2DasPh8LgJSZiAMig          [{'id': '1e8cb2', 'name': 'ripplenet.limited',...  \n",
       "rwpMvfxoodXggJ1g4qv6MWAPQqWDwQyHUW          [{'id': '107f07', 'name': 'crypto-generat.ml',...  \n",
       "t1KAedN3mupcum5ffF7DF5KNz27vRB9pYnr         [{'id': '9833a2', 'name': 'dexcompetition.site...  \n",
       "t1R2tWtBWr7Us5PSXoLJZgEPoxPbNL8uk5C         [{'id': '535b3d', 'name': 'bithextrade.com', '...  \n",
       "\n",
       "[3428 rows x 2 columns]"
      ]
     },
     "execution_count": 15,
     "metadata": {},
     "output_type": "execute_result"
    }
   ],
   "source": [
    "pd.read_json(r'data/scamer_addresses.json')"
   ]
  },
  {
   "cell_type": "code",
   "execution_count": 16,
   "metadata": {},
   "outputs": [
    {
     "data": {
      "text/html": [
       "<div>\n",
       "<style scoped>\n",
       "    .dataframe tbody tr th:only-of-type {\n",
       "        vertical-align: middle;\n",
       "    }\n",
       "\n",
       "    .dataframe tbody tr th {\n",
       "        vertical-align: top;\n",
       "    }\n",
       "\n",
       "    .dataframe thead th {\n",
       "        text-align: right;\n",
       "    }\n",
       "</style>\n",
       "<table border=\"1\" class=\"dataframe\">\n",
       "  <thead>\n",
       "    <tr style=\"text-align: right;\">\n",
       "      <th></th>\n",
       "      <th>id</th>\n",
       "      <th>name</th>\n",
       "      <th>type</th>\n",
       "      <th>url</th>\n",
       "      <th>hostname</th>\n",
       "      <th>featured</th>\n",
       "      <th>path</th>\n",
       "      <th>category</th>\n",
       "      <th>subcategory</th>\n",
       "      <th>description</th>\n",
       "      <th>reporter</th>\n",
       "      <th>ip</th>\n",
       "      <th>severity</th>\n",
       "      <th>statusCode</th>\n",
       "      <th>status</th>\n",
       "      <th>updated</th>\n",
       "      <th>address</th>\n",
       "    </tr>\n",
       "  </thead>\n",
       "  <tbody>\n",
       "    <tr>\n",
       "      <th>0</th>\n",
       "      <td>eccc29</td>\n",
       "      <td>calibra-ico.info</td>\n",
       "      <td>scam</td>\n",
       "      <td>http://calibra-ico.info</td>\n",
       "      <td>calibra-ico.info</td>\n",
       "      <td>0</td>\n",
       "      <td>/*</td>\n",
       "      <td>Phishing</td>\n",
       "      <td>Calibra</td>\n",
       "      <td>Fake Calibra crowdsale site</td>\n",
       "      <td>CryptoScamDB</td>\n",
       "      <td>None</td>\n",
       "      <td>1.0</td>\n",
       "      <td>None</td>\n",
       "      <td>None</td>\n",
       "      <td>1.590324e+12</td>\n",
       "      <td>0x00067010f3Ae17aa53e2B4d5142DDA35380cf72D</td>\n",
       "    </tr>\n",
       "    <tr>\n",
       "      <th>1</th>\n",
       "      <td>588460</td>\n",
       "      <td>decentralized-launch.com</td>\n",
       "      <td>scam</td>\n",
       "      <td>http://decentralized-launch.com</td>\n",
       "      <td>decentralized-launch.com</td>\n",
       "      <td>0</td>\n",
       "      <td>/*</td>\n",
       "      <td>Scamming</td>\n",
       "      <td>Trust-Trading</td>\n",
       "      <td>Trust trading scam site - fake BNB giveaway</td>\n",
       "      <td>CryptoScamDB</td>\n",
       "      <td>None</td>\n",
       "      <td>1.0</td>\n",
       "      <td>None</td>\n",
       "      <td>None</td>\n",
       "      <td>1.590320e+12</td>\n",
       "      <td>0x0020731604C882cF7bF8C444BE97d17b19Ea4316</td>\n",
       "    </tr>\n",
       "    <tr>\n",
       "      <th>2</th>\n",
       "      <td>0f772d</td>\n",
       "      <td>ethergifting.com</td>\n",
       "      <td>scam</td>\n",
       "      <td>https://ethergifting.com</td>\n",
       "      <td>ethergifting.com</td>\n",
       "      <td>0</td>\n",
       "      <td>/*</td>\n",
       "      <td>Scamming</td>\n",
       "      <td>Trust-Trading</td>\n",
       "      <td>Trust trading scam site</td>\n",
       "      <td>CryptoScamDB</td>\n",
       "      <td>None</td>\n",
       "      <td>1.0</td>\n",
       "      <td>None</td>\n",
       "      <td>None</td>\n",
       "      <td>1.590320e+12</td>\n",
       "      <td>0x002Bf459dC58584D58886169EA0E80f3Ca95FFAF</td>\n",
       "    </tr>\n",
       "    <tr>\n",
       "      <th>3</th>\n",
       "      <td>401749</td>\n",
       "      <td>eth-pay.org</td>\n",
       "      <td>scam</td>\n",
       "      <td>http://eth-pay.org</td>\n",
       "      <td>eth-pay.org</td>\n",
       "      <td>0</td>\n",
       "      <td>/*</td>\n",
       "      <td>Scamming</td>\n",
       "      <td>Trust-Trading</td>\n",
       "      <td>Trust trading scam site</td>\n",
       "      <td>CryptoScamDB</td>\n",
       "      <td>None</td>\n",
       "      <td>1.0</td>\n",
       "      <td>None</td>\n",
       "      <td>None</td>\n",
       "      <td>1.590320e+12</td>\n",
       "      <td>0x002f0C8119C16D310342D869Ca8bF6AcE34D9c39</td>\n",
       "    </tr>\n",
       "    <tr>\n",
       "      <th>4</th>\n",
       "      <td>3838c4</td>\n",
       "      <td>gifto.tech</td>\n",
       "      <td>scam</td>\n",
       "      <td>http://gifto.tech</td>\n",
       "      <td>gifto.tech</td>\n",
       "      <td>0</td>\n",
       "      <td>/*</td>\n",
       "      <td>Phishing</td>\n",
       "      <td>Gifto</td>\n",
       "      <td>Fake airdrop site asking for private keys. Sus...</td>\n",
       "      <td>CryptoScamDB</td>\n",
       "      <td>None</td>\n",
       "      <td>1.0</td>\n",
       "      <td>None</td>\n",
       "      <td>None</td>\n",
       "      <td>1.590320e+12</td>\n",
       "      <td>0x0059b14e35daB1b4EEe1e2926C7A5660dA66F747</td>\n",
       "    </tr>\n",
       "  </tbody>\n",
       "</table>\n",
       "</div>"
      ],
      "text/plain": [
       "       id                      name  type                              url  \\\n",
       "0  eccc29          calibra-ico.info  scam          http://calibra-ico.info   \n",
       "1  588460  decentralized-launch.com  scam  http://decentralized-launch.com   \n",
       "2  0f772d          ethergifting.com  scam         https://ethergifting.com   \n",
       "3  401749               eth-pay.org  scam               http://eth-pay.org   \n",
       "4  3838c4                gifto.tech  scam                http://gifto.tech   \n",
       "\n",
       "                   hostname  featured path  category    subcategory  \\\n",
       "0          calibra-ico.info         0   /*  Phishing        Calibra   \n",
       "1  decentralized-launch.com         0   /*  Scamming  Trust-Trading   \n",
       "2          ethergifting.com         0   /*  Scamming  Trust-Trading   \n",
       "3               eth-pay.org         0   /*  Scamming  Trust-Trading   \n",
       "4                gifto.tech         0   /*  Phishing          Gifto   \n",
       "\n",
       "                                         description      reporter    ip  \\\n",
       "0                        Fake Calibra crowdsale site  CryptoScamDB  None   \n",
       "1        Trust trading scam site - fake BNB giveaway  CryptoScamDB  None   \n",
       "2                            Trust trading scam site  CryptoScamDB  None   \n",
       "3                            Trust trading scam site  CryptoScamDB  None   \n",
       "4  Fake airdrop site asking for private keys. Sus...  CryptoScamDB  None   \n",
       "\n",
       "   severity statusCode status       updated  \\\n",
       "0       1.0       None   None  1.590324e+12   \n",
       "1       1.0       None   None  1.590320e+12   \n",
       "2       1.0       None   None  1.590320e+12   \n",
       "3       1.0       None   None  1.590320e+12   \n",
       "4       1.0       None   None  1.590320e+12   \n",
       "\n",
       "                                      address  \n",
       "0  0x00067010f3Ae17aa53e2B4d5142DDA35380cf72D  \n",
       "1  0x0020731604C882cF7bF8C444BE97d17b19Ea4316  \n",
       "2  0x002Bf459dC58584D58886169EA0E80f3Ca95FFAF  \n",
       "3  0x002f0C8119C16D310342D869Ca8bF6AcE34D9c39  \n",
       "4  0x0059b14e35daB1b4EEe1e2926C7A5660dA66F747  "
      ]
     },
     "execution_count": 16,
     "metadata": {},
     "output_type": "execute_result"
    }
   ],
   "source": [
    "df_scams = pd.read_json(r'data/scamer_addresses.json').explode('result').result.apply(pd.Series).reset_index(drop=True)\n",
    "df_scams.head()"
   ]
  },
  {
   "cell_type": "code",
   "execution_count": 17,
   "metadata": {},
   "outputs": [
    {
     "data": {
      "text/html": [
       "<div>\n",
       "<style scoped>\n",
       "    .dataframe tbody tr th:only-of-type {\n",
       "        vertical-align: middle;\n",
       "    }\n",
       "\n",
       "    .dataframe tbody tr th {\n",
       "        vertical-align: top;\n",
       "    }\n",
       "\n",
       "    .dataframe thead th {\n",
       "        text-align: right;\n",
       "    }\n",
       "</style>\n",
       "<table border=\"1\" class=\"dataframe\">\n",
       "  <thead>\n",
       "    <tr style=\"text-align: right;\">\n",
       "      <th></th>\n",
       "      <th>hash</th>\n",
       "      <th>nonce</th>\n",
       "      <th>transaction_index</th>\n",
       "      <th>from_address</th>\n",
       "      <th>to_address</th>\n",
       "      <th>value</th>\n",
       "      <th>gas</th>\n",
       "      <th>gas_price</th>\n",
       "      <th>input</th>\n",
       "      <th>receipt_cumulative_gas_used</th>\n",
       "      <th>receipt_gas_used</th>\n",
       "      <th>receipt_contract_address</th>\n",
       "      <th>receipt_root</th>\n",
       "      <th>receipt_status</th>\n",
       "      <th>block_timestamp</th>\n",
       "      <th>block_number</th>\n",
       "      <th>block_hash</th>\n",
       "    </tr>\n",
       "  </thead>\n",
       "  <tbody>\n",
       "    <tr>\n",
       "      <th>0</th>\n",
       "      <td>0xd77ef0c067c6cf368c556a83988fe7c960ed12e63ec8...</td>\n",
       "      <td>0</td>\n",
       "      <td>86</td>\n",
       "      <td>0xf1c058ae62f2d25efebdd809eedc609cbb9a5090</td>\n",
       "      <td>0x3d49008a303fb8a85b983831d4a4399df3916266</td>\n",
       "      <td>1.999139e+18</td>\n",
       "      <td>21000</td>\n",
       "      <td>41000000000</td>\n",
       "      <td>0x</td>\n",
       "      <td>1892745</td>\n",
       "      <td>21000</td>\n",
       "      <td>NaN</td>\n",
       "      <td>NaN</td>\n",
       "      <td>1</td>\n",
       "      <td>2019-06-04 18:04:00+00:00</td>\n",
       "      <td>7894349</td>\n",
       "      <td>0xd27eb22079a3899ebe05407c5fa312fc7d1731452e06...</td>\n",
       "    </tr>\n",
       "    <tr>\n",
       "      <th>1</th>\n",
       "      <td>0x62a59bb2dddc0042435dec95d8c6c7708f446a80604b...</td>\n",
       "      <td>0</td>\n",
       "      <td>7</td>\n",
       "      <td>0xf33142f5bb228516f93e4267fb5a7241dc241614</td>\n",
       "      <td>0xeb788abad9bf783893496393a5d7f7c2f359d16e</td>\n",
       "      <td>9.991390e+17</td>\n",
       "      <td>21000</td>\n",
       "      <td>41000000000</td>\n",
       "      <td>0x</td>\n",
       "      <td>673205</td>\n",
       "      <td>21000</td>\n",
       "      <td>NaN</td>\n",
       "      <td>NaN</td>\n",
       "      <td>1</td>\n",
       "      <td>2019-02-13 03:46:26+00:00</td>\n",
       "      <td>7213622</td>\n",
       "      <td>0x07cf2d0194224a3675980309c5f0635f8236e9ab2d3a...</td>\n",
       "    </tr>\n",
       "    <tr>\n",
       "      <th>2</th>\n",
       "      <td>0x1f1e5a28f0b2e84353b3da6914369447f2a6f5b79034...</td>\n",
       "      <td>2</td>\n",
       "      <td>86</td>\n",
       "      <td>0x7c9001c50ea57c1b2ec1e3e63cf04c297534bfc1</td>\n",
       "      <td>0x4fed1fc4144c223ae3c1553be203cdfcbd38c581</td>\n",
       "      <td>8.950000e+15</td>\n",
       "      <td>21000</td>\n",
       "      <td>5000000000</td>\n",
       "      <td>0x</td>\n",
       "      <td>3506936</td>\n",
       "      <td>21000</td>\n",
       "      <td>NaN</td>\n",
       "      <td>NaN</td>\n",
       "      <td>1</td>\n",
       "      <td>2019-02-13 04:12:52+00:00</td>\n",
       "      <td>7213711</td>\n",
       "      <td>0x7435104b7a0ef7c2753e357574ebb7d3877d9e8a1a36...</td>\n",
       "    </tr>\n",
       "    <tr>\n",
       "      <th>3</th>\n",
       "      <td>0x55aefd51df69b080b091ccf8dab7d590f658795c7b5e...</td>\n",
       "      <td>14</td>\n",
       "      <td>4</td>\n",
       "      <td>0xdecaf9cd2367cdbb726e904cd6397edfcae6068d</td>\n",
       "      <td>0x55296f69f40ea6d20e478533c15a6b08b654e758</td>\n",
       "      <td>0.000000e+00</td>\n",
       "      <td>38355</td>\n",
       "      <td>41000000000</td>\n",
       "      <td>0xa9059cbb0000000000000000000000008630a8d1318d...</td>\n",
       "      <td>139028</td>\n",
       "      <td>23355</td>\n",
       "      <td>NaN</td>\n",
       "      <td>NaN</td>\n",
       "      <td>1</td>\n",
       "      <td>2019-02-13 00:33:36+00:00</td>\n",
       "      <td>7213109</td>\n",
       "      <td>0x7d10ee7e45cabf0442c8d1e1d12186fb337c38455317...</td>\n",
       "    </tr>\n",
       "    <tr>\n",
       "      <th>4</th>\n",
       "      <td>0xa5a3512fba18f0d179538664d2fa9d73467486638256...</td>\n",
       "      <td>25</td>\n",
       "      <td>100</td>\n",
       "      <td>0x7c9001c50ea57c1b2ec1e3e63cf04c297534bfc1</td>\n",
       "      <td>0x4fed1fc4144c223ae3c1553be203cdfcbd38c581</td>\n",
       "      <td>7.770000e+14</td>\n",
       "      <td>21000</td>\n",
       "      <td>2000000000</td>\n",
       "      <td>0x</td>\n",
       "      <td>5817287</td>\n",
       "      <td>21000</td>\n",
       "      <td>NaN</td>\n",
       "      <td>NaN</td>\n",
       "      <td>1</td>\n",
       "      <td>2019-06-18 23:03:46+00:00</td>\n",
       "      <td>7985128</td>\n",
       "      <td>0x25236dd359cbf155dc3cd2f1a6401045569e327ed6b3...</td>\n",
       "    </tr>\n",
       "  </tbody>\n",
       "</table>\n",
       "</div>"
      ],
      "text/plain": [
       "                                                hash  nonce  \\\n",
       "0  0xd77ef0c067c6cf368c556a83988fe7c960ed12e63ec8...      0   \n",
       "1  0x62a59bb2dddc0042435dec95d8c6c7708f446a80604b...      0   \n",
       "2  0x1f1e5a28f0b2e84353b3da6914369447f2a6f5b79034...      2   \n",
       "3  0x55aefd51df69b080b091ccf8dab7d590f658795c7b5e...     14   \n",
       "4  0xa5a3512fba18f0d179538664d2fa9d73467486638256...     25   \n",
       "\n",
       "   transaction_index                                from_address  \\\n",
       "0                 86  0xf1c058ae62f2d25efebdd809eedc609cbb9a5090   \n",
       "1                  7  0xf33142f5bb228516f93e4267fb5a7241dc241614   \n",
       "2                 86  0x7c9001c50ea57c1b2ec1e3e63cf04c297534bfc1   \n",
       "3                  4  0xdecaf9cd2367cdbb726e904cd6397edfcae6068d   \n",
       "4                100  0x7c9001c50ea57c1b2ec1e3e63cf04c297534bfc1   \n",
       "\n",
       "                                   to_address         value    gas  \\\n",
       "0  0x3d49008a303fb8a85b983831d4a4399df3916266  1.999139e+18  21000   \n",
       "1  0xeb788abad9bf783893496393a5d7f7c2f359d16e  9.991390e+17  21000   \n",
       "2  0x4fed1fc4144c223ae3c1553be203cdfcbd38c581  8.950000e+15  21000   \n",
       "3  0x55296f69f40ea6d20e478533c15a6b08b654e758  0.000000e+00  38355   \n",
       "4  0x4fed1fc4144c223ae3c1553be203cdfcbd38c581  7.770000e+14  21000   \n",
       "\n",
       "     gas_price                                              input  \\\n",
       "0  41000000000                                                 0x   \n",
       "1  41000000000                                                 0x   \n",
       "2   5000000000                                                 0x   \n",
       "3  41000000000  0xa9059cbb0000000000000000000000008630a8d1318d...   \n",
       "4   2000000000                                                 0x   \n",
       "\n",
       "   receipt_cumulative_gas_used  receipt_gas_used  receipt_contract_address  \\\n",
       "0                      1892745             21000                       NaN   \n",
       "1                       673205             21000                       NaN   \n",
       "2                      3506936             21000                       NaN   \n",
       "3                       139028             23355                       NaN   \n",
       "4                      5817287             21000                       NaN   \n",
       "\n",
       "   receipt_root  receipt_status            block_timestamp  block_number  \\\n",
       "0           NaN               1  2019-06-04 18:04:00+00:00       7894349   \n",
       "1           NaN               1  2019-02-13 03:46:26+00:00       7213622   \n",
       "2           NaN               1  2019-02-13 04:12:52+00:00       7213711   \n",
       "3           NaN               1  2019-02-13 00:33:36+00:00       7213109   \n",
       "4           NaN               1  2019-06-18 23:03:46+00:00       7985128   \n",
       "\n",
       "                                          block_hash  \n",
       "0  0xd27eb22079a3899ebe05407c5fa312fc7d1731452e06...  \n",
       "1  0x07cf2d0194224a3675980309c5f0635f8236e9ab2d3a...  \n",
       "2  0x7435104b7a0ef7c2753e357574ebb7d3877d9e8a1a36...  \n",
       "3  0x7d10ee7e45cabf0442c8d1e1d12186fb337c38455317...  \n",
       "4  0x25236dd359cbf155dc3cd2f1a6401045569e327ed6b3...  "
      ]
     },
     "execution_count": 17,
     "metadata": {},
     "output_type": "execute_result"
    }
   ],
   "source": [
    "df_scam_transactions = pd.read_csv(r'data/scam_transactions_20190101_20190701.csv')\n",
    "df_scam_transactions = df_scam_transactions.drop(columns=df_scam_transactions.columns[0])\n",
    "df_scam_transactions.head()"
   ]
  },
  {
   "cell_type": "code",
   "execution_count": 18,
   "metadata": {},
   "outputs": [
    {
     "data": {
      "text/html": [
       "<div>\n",
       "<style scoped>\n",
       "    .dataframe tbody tr th:only-of-type {\n",
       "        vertical-align: middle;\n",
       "    }\n",
       "\n",
       "    .dataframe tbody tr th {\n",
       "        vertical-align: top;\n",
       "    }\n",
       "\n",
       "    .dataframe thead th {\n",
       "        text-align: right;\n",
       "    }\n",
       "</style>\n",
       "<table border=\"1\" class=\"dataframe\">\n",
       "  <thead>\n",
       "    <tr style=\"text-align: right;\">\n",
       "      <th></th>\n",
       "      <th>id</th>\n",
       "      <th>name</th>\n",
       "      <th>type</th>\n",
       "      <th>url</th>\n",
       "      <th>hostname</th>\n",
       "      <th>featured</th>\n",
       "      <th>path</th>\n",
       "      <th>category</th>\n",
       "      <th>subcategory</th>\n",
       "      <th>description</th>\n",
       "      <th>reporter</th>\n",
       "      <th>ip</th>\n",
       "      <th>severity</th>\n",
       "      <th>statusCode</th>\n",
       "      <th>status</th>\n",
       "      <th>updated</th>\n",
       "      <th>address</th>\n",
       "    </tr>\n",
       "  </thead>\n",
       "  <tbody>\n",
       "  </tbody>\n",
       "</table>\n",
       "</div>"
      ],
      "text/plain": [
       "Empty DataFrame\n",
       "Columns: [id, name, type, url, hostname, featured, path, category, subcategory, description, reporter, ip, severity, statusCode, status, updated, address]\n",
       "Index: []"
      ]
     },
     "execution_count": 18,
     "metadata": {},
     "output_type": "execute_result"
    }
   ],
   "source": [
    "df_scams[df_scams['address'] == '0x3d49008a303fb8a85b983831d4a4399df3916266']"
   ]
  },
  {
   "cell_type": "code",
   "execution_count": 19,
   "metadata": {},
   "outputs": [],
   "source": [
    "scam_addresses = df_scams['address'].unique()"
   ]
  },
  {
   "cell_type": "code",
   "execution_count": null,
   "metadata": {},
   "outputs": [],
   "source": []
  },
  {
   "cell_type": "code",
   "execution_count": 20,
   "metadata": {},
   "outputs": [
    {
     "data": {
      "text/plain": [
       "(32, 5)"
      ]
     },
     "execution_count": 20,
     "metadata": {},
     "output_type": "execute_result"
    }
   ],
   "source": [
    "data_may_2019[data_may_2019['from_address'].isin(scam_addresses)].shape"
   ]
  },
  {
   "cell_type": "code",
   "execution_count": 21,
   "metadata": {},
   "outputs": [
    {
     "data": {
      "text/html": [
       "<div>\n",
       "<style scoped>\n",
       "    .dataframe tbody tr th:only-of-type {\n",
       "        vertical-align: middle;\n",
       "    }\n",
       "\n",
       "    .dataframe tbody tr th {\n",
       "        vertical-align: top;\n",
       "    }\n",
       "\n",
       "    .dataframe thead th {\n",
       "        text-align: right;\n",
       "    }\n",
       "</style>\n",
       "<table border=\"1\" class=\"dataframe\">\n",
       "  <thead>\n",
       "    <tr style=\"text-align: right;\">\n",
       "      <th></th>\n",
       "      <th>from_address</th>\n",
       "      <th>to_address</th>\n",
       "      <th>value</th>\n",
       "      <th>nonce</th>\n",
       "      <th>block_timestamp</th>\n",
       "    </tr>\n",
       "  </thead>\n",
       "  <tbody>\n",
       "    <tr>\n",
       "      <th>120805</th>\n",
       "      <td>0x7c9001c50ea57c1b2ec1e3e63cf04c297534bfc1</td>\n",
       "      <td>0x4fed1fc4144c223ae3c1553be203cdfcbd38c581</td>\n",
       "      <td>9.895e+16</td>\n",
       "      <td>12</td>\n",
       "      <td>2019-05-18 16:48:25</td>\n",
       "    </tr>\n",
       "    <tr>\n",
       "      <th>149864</th>\n",
       "      <td>0x7c9001c50ea57c1b2ec1e3e63cf04c297534bfc1</td>\n",
       "      <td>0x4fed1fc4144c223ae3c1553be203cdfcbd38c581</td>\n",
       "      <td>2.8749e+15</td>\n",
       "      <td>15</td>\n",
       "      <td>2019-05-20 05:48:27</td>\n",
       "    </tr>\n",
       "    <tr>\n",
       "      <th>496618</th>\n",
       "      <td>0xbad41e5412ebaf22b8ec127521060fd9fa29bbdd</td>\n",
       "      <td>0x0064454b14cddc990ed6520ef94d3e28fe7c41b6</td>\n",
       "      <td>4.66e+14</td>\n",
       "      <td>13</td>\n",
       "      <td>2019-05-17 04:07:38</td>\n",
       "    </tr>\n",
       "    <tr>\n",
       "      <th>539673</th>\n",
       "      <td>0x482729ad79e5da6c48c0e7a4b3e67ba13ceb7404</td>\n",
       "      <td>0x4fed1fc4144c223ae3c1553be203cdfcbd38c581</td>\n",
       "      <td>1.4868e+16</td>\n",
       "      <td>16</td>\n",
       "      <td>2019-05-01 01:28:38</td>\n",
       "    </tr>\n",
       "    <tr>\n",
       "      <th>765663</th>\n",
       "      <td>0x7a023247e70ad842b0c1226e09185b461a1cd47d</td>\n",
       "      <td>0x4fed1fc4144c223ae3c1553be203cdfcbd38c581</td>\n",
       "      <td>5.0395e+17</td>\n",
       "      <td>0</td>\n",
       "      <td>2019-05-26 03:51:50</td>\n",
       "    </tr>\n",
       "    <tr>\n",
       "      <th>1065608</th>\n",
       "      <td>0x0d6e198892a124fde9956d581b193832e3a8f583</td>\n",
       "      <td>0x0064454b14cddc990ed6520ef94d3e28fe7c41b6</td>\n",
       "      <td>1.272e+15</td>\n",
       "      <td>10</td>\n",
       "      <td>2019-05-18 04:04:34</td>\n",
       "    </tr>\n",
       "    <tr>\n",
       "      <th>2147675</th>\n",
       "      <td>0x7c9001c50ea57c1b2ec1e3e63cf04c297534bfc1</td>\n",
       "      <td>0x4fed1fc4144c223ae3c1553be203cdfcbd38c581</td>\n",
       "      <td>8.61e+14</td>\n",
       "      <td>11</td>\n",
       "      <td>2019-05-17 22:20:59</td>\n",
       "    </tr>\n",
       "    <tr>\n",
       "      <th>2227392</th>\n",
       "      <td>0x7c9001c50ea57c1b2ec1e3e63cf04c297534bfc1</td>\n",
       "      <td>0x4fed1fc4144c223ae3c1553be203cdfcbd38c581</td>\n",
       "      <td>1.70586e+18</td>\n",
       "      <td>18</td>\n",
       "      <td>2019-05-22 08:12:08</td>\n",
       "    </tr>\n",
       "    <tr>\n",
       "      <th>2315419</th>\n",
       "      <td>0x482729ad79e5da6c48c0e7a4b3e67ba13ceb7404</td>\n",
       "      <td>0x4fed1fc4144c223ae3c1553be203cdfcbd38c581</td>\n",
       "      <td>8.841e+15</td>\n",
       "      <td>17</td>\n",
       "      <td>2019-05-09 20:37:26</td>\n",
       "    </tr>\n",
       "    <tr>\n",
       "      <th>2328915</th>\n",
       "      <td>0x336a3f0c4d40b1e39cee72e2e59330daf484848c</td>\n",
       "      <td>0xaafae6690d3c4605a313649116632d89b2d64d94</td>\n",
       "      <td>5.98e+16</td>\n",
       "      <td>93</td>\n",
       "      <td>2019-05-25 06:54:43</td>\n",
       "    </tr>\n",
       "    <tr>\n",
       "      <th>3198523</th>\n",
       "      <td>0x7c9001c50ea57c1b2ec1e3e63cf04c297534bfc1</td>\n",
       "      <td>0x4fed1fc4144c223ae3c1553be203cdfcbd38c581</td>\n",
       "      <td>1.495e+16</td>\n",
       "      <td>8</td>\n",
       "      <td>2019-05-02 00:40:31</td>\n",
       "    </tr>\n",
       "    <tr>\n",
       "      <th>3207561</th>\n",
       "      <td>0x7c9001c50ea57c1b2ec1e3e63cf04c297534bfc1</td>\n",
       "      <td>0x4fed1fc4144c223ae3c1553be203cdfcbd38c581</td>\n",
       "      <td>1.824e+15</td>\n",
       "      <td>9</td>\n",
       "      <td>2019-05-09 20:24:23</td>\n",
       "    </tr>\n",
       "    <tr>\n",
       "      <th>3250714</th>\n",
       "      <td>0x336a3f0c4d40b1e39cee72e2e59330daf484848c</td>\n",
       "      <td>0x336a3f0c4d40b1e39cee72e2e59330daf484848c</td>\n",
       "      <td>1e+14</td>\n",
       "      <td>89</td>\n",
       "      <td>2019-05-02 14:11:19</td>\n",
       "    </tr>\n",
       "    <tr>\n",
       "      <th>3596081</th>\n",
       "      <td>0x7c9001c50ea57c1b2ec1e3e63cf04c297534bfc1</td>\n",
       "      <td>0x4fed1fc4144c223ae3c1553be203cdfcbd38c581</td>\n",
       "      <td>1.945e+15</td>\n",
       "      <td>19</td>\n",
       "      <td>2019-05-31 19:33:47</td>\n",
       "    </tr>\n",
       "    <tr>\n",
       "      <th>3598471</th>\n",
       "      <td>0x336a3f0c4d40b1e39cee72e2e59330daf484848c</td>\n",
       "      <td>0x5208d7f63a089906889a5a9caed81e9c889e64f8</td>\n",
       "      <td>1e+14</td>\n",
       "      <td>96</td>\n",
       "      <td>2019-05-31 10:16:41</td>\n",
       "    </tr>\n",
       "    <tr>\n",
       "      <th>3614156</th>\n",
       "      <td>0x336a3f0c4d40b1e39cee72e2e59330daf484848c</td>\n",
       "      <td>0x5208d7f63a089906889a5a9caed81e9c889e64f8</td>\n",
       "      <td>1e+14</td>\n",
       "      <td>91</td>\n",
       "      <td>2019-05-03 14:06:20</td>\n",
       "    </tr>\n",
       "    <tr>\n",
       "      <th>3757976</th>\n",
       "      <td>0x336a3f0c4d40b1e39cee72e2e59330daf484848c</td>\n",
       "      <td>0x5208d7f63a089906889a5a9caed81e9c889e64f8</td>\n",
       "      <td>1e+14</td>\n",
       "      <td>88</td>\n",
       "      <td>2019-05-01 10:52:10</td>\n",
       "    </tr>\n",
       "    <tr>\n",
       "      <th>4266132</th>\n",
       "      <td>0xf17ba6d6ac0c9e691aa530482d616a4120134a17</td>\n",
       "      <td>0x0064454b14cddc990ed6520ef94d3e28fe7c41b6</td>\n",
       "      <td>4.67e+14</td>\n",
       "      <td>7</td>\n",
       "      <td>2019-05-24 04:12:52</td>\n",
       "    </tr>\n",
       "    <tr>\n",
       "      <th>4362238</th>\n",
       "      <td>0x7c9001c50ea57c1b2ec1e3e63cf04c297534bfc1</td>\n",
       "      <td>0x4fed1fc4144c223ae3c1553be203cdfcbd38c581</td>\n",
       "      <td>2.85895e+18</td>\n",
       "      <td>16</td>\n",
       "      <td>2019-05-22 04:35:03</td>\n",
       "    </tr>\n",
       "    <tr>\n",
       "      <th>6421880</th>\n",
       "      <td>0x7c9001c50ea57c1b2ec1e3e63cf04c297534bfc1</td>\n",
       "      <td>0x4fed1fc4144c223ae3c1553be203cdfcbd38c581</td>\n",
       "      <td>4.09841e+15</td>\n",
       "      <td>7</td>\n",
       "      <td>2019-05-01 01:05:46</td>\n",
       "    </tr>\n",
       "    <tr>\n",
       "      <th>6595016</th>\n",
       "      <td>0x336a3f0c4d40b1e39cee72e2e59330daf484848c</td>\n",
       "      <td>0x5208d7f63a089906889a5a9caed81e9c889e64f8</td>\n",
       "      <td>1e+14</td>\n",
       "      <td>92</td>\n",
       "      <td>2019-05-20 18:28:45</td>\n",
       "    </tr>\n",
       "    <tr>\n",
       "      <th>6924523</th>\n",
       "      <td>0x7c9001c50ea57c1b2ec1e3e63cf04c297534bfc1</td>\n",
       "      <td>0x4fed1fc4144c223ae3c1553be203cdfcbd38c581</td>\n",
       "      <td>1.33895e+18</td>\n",
       "      <td>14</td>\n",
       "      <td>2019-05-19 10:51:02</td>\n",
       "    </tr>\n",
       "    <tr>\n",
       "      <th>7473339</th>\n",
       "      <td>0xb53e95a4b7c5e15a790df3a66709b2e9f1cf9e3f</td>\n",
       "      <td>0x2e6ff2d869f8b4b969ce753b24f216ab338303ea</td>\n",
       "      <td>1.80614e+16</td>\n",
       "      <td>6</td>\n",
       "      <td>2019-05-06 13:32:02</td>\n",
       "    </tr>\n",
       "    <tr>\n",
       "      <th>7632888</th>\n",
       "      <td>0x336a3f0c4d40b1e39cee72e2e59330daf484848c</td>\n",
       "      <td>0x5208d7f63a089906889a5a9caed81e9c889e64f8</td>\n",
       "      <td>1e+14</td>\n",
       "      <td>95</td>\n",
       "      <td>2019-05-26 11:09:25</td>\n",
       "    </tr>\n",
       "    <tr>\n",
       "      <th>7708695</th>\n",
       "      <td>0x336a3f0c4d40b1e39cee72e2e59330daf484848c</td>\n",
       "      <td>0x7e9a7ea8a62a576c06d57621c52e893718909a99</td>\n",
       "      <td>5.98e+16</td>\n",
       "      <td>94</td>\n",
       "      <td>2019-05-25 07:23:11</td>\n",
       "    </tr>\n",
       "    <tr>\n",
       "      <th>7999981</th>\n",
       "      <td>0x7c9001c50ea57c1b2ec1e3e63cf04c297534bfc1</td>\n",
       "      <td>0x4fed1fc4144c223ae3c1553be203cdfcbd38c581</td>\n",
       "      <td>1.2795e+17</td>\n",
       "      <td>13</td>\n",
       "      <td>2019-05-19 05:54:26</td>\n",
       "    </tr>\n",
       "    <tr>\n",
       "      <th>8560672</th>\n",
       "      <td>0xf17ba6d6ac0c9e691aa530482d616a4120134a17</td>\n",
       "      <td>0xfcc8ae7a0a03295bbeaff82fff4ebe4399ad1fc5</td>\n",
       "      <td>86984000000000000.000000000</td>\n",
       "      <td>6</td>\n",
       "      <td>2019-05-23 17:24:58</td>\n",
       "    </tr>\n",
       "    <tr>\n",
       "      <th>8587126</th>\n",
       "      <td>0x7c9001c50ea57c1b2ec1e3e63cf04c297534bfc1</td>\n",
       "      <td>0x4fed1fc4144c223ae3c1553be203cdfcbd38c581</td>\n",
       "      <td>550000000000000.000000000</td>\n",
       "      <td>10</td>\n",
       "      <td>2019-05-14 16:17:34</td>\n",
       "    </tr>\n",
       "    <tr>\n",
       "      <th>8622510</th>\n",
       "      <td>0x336a3f0c4d40b1e39cee72e2e59330daf484848c</td>\n",
       "      <td>0x5208d7f63a089906889a5a9caed81e9c889e64f8</td>\n",
       "      <td>10000000000000.000000000</td>\n",
       "      <td>90</td>\n",
       "      <td>2019-05-02 14:21:31</td>\n",
       "    </tr>\n",
       "    <tr>\n",
       "      <th>8669487</th>\n",
       "      <td>0x7c9001c50ea57c1b2ec1e3e63cf04c297534bfc1</td>\n",
       "      <td>0x4fed1fc4144c223ae3c1553be203cdfcbd38c581</td>\n",
       "      <td>9.99638e+17</td>\n",
       "      <td>17</td>\n",
       "      <td>2019-05-22 08:11:03</td>\n",
       "    </tr>\n",
       "    <tr>\n",
       "      <th>9280391</th>\n",
       "      <td>0xbad41e5412ebaf22b8ec127521060fd9fa29bbdd</td>\n",
       "      <td>0x64f70539776f08c5ef505254c2426f3e47a5204a</td>\n",
       "      <td>1.51899e+17</td>\n",
       "      <td>12</td>\n",
       "      <td>2019-05-16 09:56:19</td>\n",
       "    </tr>\n",
       "    <tr>\n",
       "      <th>9503276</th>\n",
       "      <td>0xa4c14cc3b9b9d6ecbe11a9c8720326270656dbb7</td>\n",
       "      <td>0x64da80c182770b3792dc213707b4717fa753ef2c</td>\n",
       "      <td>2.685e+17</td>\n",
       "      <td>1</td>\n",
       "      <td>2019-05-03 11:39:23</td>\n",
       "    </tr>\n",
       "  </tbody>\n",
       "</table>\n",
       "</div>"
      ],
      "text/plain": [
       "                                       from_address  \\\n",
       "120805   0x7c9001c50ea57c1b2ec1e3e63cf04c297534bfc1   \n",
       "149864   0x7c9001c50ea57c1b2ec1e3e63cf04c297534bfc1   \n",
       "496618   0xbad41e5412ebaf22b8ec127521060fd9fa29bbdd   \n",
       "539673   0x482729ad79e5da6c48c0e7a4b3e67ba13ceb7404   \n",
       "765663   0x7a023247e70ad842b0c1226e09185b461a1cd47d   \n",
       "1065608  0x0d6e198892a124fde9956d581b193832e3a8f583   \n",
       "2147675  0x7c9001c50ea57c1b2ec1e3e63cf04c297534bfc1   \n",
       "2227392  0x7c9001c50ea57c1b2ec1e3e63cf04c297534bfc1   \n",
       "2315419  0x482729ad79e5da6c48c0e7a4b3e67ba13ceb7404   \n",
       "2328915  0x336a3f0c4d40b1e39cee72e2e59330daf484848c   \n",
       "3198523  0x7c9001c50ea57c1b2ec1e3e63cf04c297534bfc1   \n",
       "3207561  0x7c9001c50ea57c1b2ec1e3e63cf04c297534bfc1   \n",
       "3250714  0x336a3f0c4d40b1e39cee72e2e59330daf484848c   \n",
       "3596081  0x7c9001c50ea57c1b2ec1e3e63cf04c297534bfc1   \n",
       "3598471  0x336a3f0c4d40b1e39cee72e2e59330daf484848c   \n",
       "3614156  0x336a3f0c4d40b1e39cee72e2e59330daf484848c   \n",
       "3757976  0x336a3f0c4d40b1e39cee72e2e59330daf484848c   \n",
       "4266132  0xf17ba6d6ac0c9e691aa530482d616a4120134a17   \n",
       "4362238  0x7c9001c50ea57c1b2ec1e3e63cf04c297534bfc1   \n",
       "6421880  0x7c9001c50ea57c1b2ec1e3e63cf04c297534bfc1   \n",
       "6595016  0x336a3f0c4d40b1e39cee72e2e59330daf484848c   \n",
       "6924523  0x7c9001c50ea57c1b2ec1e3e63cf04c297534bfc1   \n",
       "7473339  0xb53e95a4b7c5e15a790df3a66709b2e9f1cf9e3f   \n",
       "7632888  0x336a3f0c4d40b1e39cee72e2e59330daf484848c   \n",
       "7708695  0x336a3f0c4d40b1e39cee72e2e59330daf484848c   \n",
       "7999981  0x7c9001c50ea57c1b2ec1e3e63cf04c297534bfc1   \n",
       "8560672  0xf17ba6d6ac0c9e691aa530482d616a4120134a17   \n",
       "8587126  0x7c9001c50ea57c1b2ec1e3e63cf04c297534bfc1   \n",
       "8622510  0x336a3f0c4d40b1e39cee72e2e59330daf484848c   \n",
       "8669487  0x7c9001c50ea57c1b2ec1e3e63cf04c297534bfc1   \n",
       "9280391  0xbad41e5412ebaf22b8ec127521060fd9fa29bbdd   \n",
       "9503276  0xa4c14cc3b9b9d6ecbe11a9c8720326270656dbb7   \n",
       "\n",
       "                                         to_address  \\\n",
       "120805   0x4fed1fc4144c223ae3c1553be203cdfcbd38c581   \n",
       "149864   0x4fed1fc4144c223ae3c1553be203cdfcbd38c581   \n",
       "496618   0x0064454b14cddc990ed6520ef94d3e28fe7c41b6   \n",
       "539673   0x4fed1fc4144c223ae3c1553be203cdfcbd38c581   \n",
       "765663   0x4fed1fc4144c223ae3c1553be203cdfcbd38c581   \n",
       "1065608  0x0064454b14cddc990ed6520ef94d3e28fe7c41b6   \n",
       "2147675  0x4fed1fc4144c223ae3c1553be203cdfcbd38c581   \n",
       "2227392  0x4fed1fc4144c223ae3c1553be203cdfcbd38c581   \n",
       "2315419  0x4fed1fc4144c223ae3c1553be203cdfcbd38c581   \n",
       "2328915  0xaafae6690d3c4605a313649116632d89b2d64d94   \n",
       "3198523  0x4fed1fc4144c223ae3c1553be203cdfcbd38c581   \n",
       "3207561  0x4fed1fc4144c223ae3c1553be203cdfcbd38c581   \n",
       "3250714  0x336a3f0c4d40b1e39cee72e2e59330daf484848c   \n",
       "3596081  0x4fed1fc4144c223ae3c1553be203cdfcbd38c581   \n",
       "3598471  0x5208d7f63a089906889a5a9caed81e9c889e64f8   \n",
       "3614156  0x5208d7f63a089906889a5a9caed81e9c889e64f8   \n",
       "3757976  0x5208d7f63a089906889a5a9caed81e9c889e64f8   \n",
       "4266132  0x0064454b14cddc990ed6520ef94d3e28fe7c41b6   \n",
       "4362238  0x4fed1fc4144c223ae3c1553be203cdfcbd38c581   \n",
       "6421880  0x4fed1fc4144c223ae3c1553be203cdfcbd38c581   \n",
       "6595016  0x5208d7f63a089906889a5a9caed81e9c889e64f8   \n",
       "6924523  0x4fed1fc4144c223ae3c1553be203cdfcbd38c581   \n",
       "7473339  0x2e6ff2d869f8b4b969ce753b24f216ab338303ea   \n",
       "7632888  0x5208d7f63a089906889a5a9caed81e9c889e64f8   \n",
       "7708695  0x7e9a7ea8a62a576c06d57621c52e893718909a99   \n",
       "7999981  0x4fed1fc4144c223ae3c1553be203cdfcbd38c581   \n",
       "8560672  0xfcc8ae7a0a03295bbeaff82fff4ebe4399ad1fc5   \n",
       "8587126  0x4fed1fc4144c223ae3c1553be203cdfcbd38c581   \n",
       "8622510  0x5208d7f63a089906889a5a9caed81e9c889e64f8   \n",
       "8669487  0x4fed1fc4144c223ae3c1553be203cdfcbd38c581   \n",
       "9280391  0x64f70539776f08c5ef505254c2426f3e47a5204a   \n",
       "9503276  0x64da80c182770b3792dc213707b4717fa753ef2c   \n",
       "\n",
       "                               value  nonce     block_timestamp  \n",
       "120805                     9.895e+16     12 2019-05-18 16:48:25  \n",
       "149864                    2.8749e+15     15 2019-05-20 05:48:27  \n",
       "496618                      4.66e+14     13 2019-05-17 04:07:38  \n",
       "539673                    1.4868e+16     16 2019-05-01 01:28:38  \n",
       "765663                    5.0395e+17      0 2019-05-26 03:51:50  \n",
       "1065608                    1.272e+15     10 2019-05-18 04:04:34  \n",
       "2147675                     8.61e+14     11 2019-05-17 22:20:59  \n",
       "2227392                  1.70586e+18     18 2019-05-22 08:12:08  \n",
       "2315419                    8.841e+15     17 2019-05-09 20:37:26  \n",
       "2328915                     5.98e+16     93 2019-05-25 06:54:43  \n",
       "3198523                    1.495e+16      8 2019-05-02 00:40:31  \n",
       "3207561                    1.824e+15      9 2019-05-09 20:24:23  \n",
       "3250714                        1e+14     89 2019-05-02 14:11:19  \n",
       "3596081                    1.945e+15     19 2019-05-31 19:33:47  \n",
       "3598471                        1e+14     96 2019-05-31 10:16:41  \n",
       "3614156                        1e+14     91 2019-05-03 14:06:20  \n",
       "3757976                        1e+14     88 2019-05-01 10:52:10  \n",
       "4266132                     4.67e+14      7 2019-05-24 04:12:52  \n",
       "4362238                  2.85895e+18     16 2019-05-22 04:35:03  \n",
       "6421880                  4.09841e+15      7 2019-05-01 01:05:46  \n",
       "6595016                        1e+14     92 2019-05-20 18:28:45  \n",
       "6924523                  1.33895e+18     14 2019-05-19 10:51:02  \n",
       "7473339                  1.80614e+16      6 2019-05-06 13:32:02  \n",
       "7632888                        1e+14     95 2019-05-26 11:09:25  \n",
       "7708695                     5.98e+16     94 2019-05-25 07:23:11  \n",
       "7999981                   1.2795e+17     13 2019-05-19 05:54:26  \n",
       "8560672  86984000000000000.000000000      6 2019-05-23 17:24:58  \n",
       "8587126    550000000000000.000000000     10 2019-05-14 16:17:34  \n",
       "8622510     10000000000000.000000000     90 2019-05-02 14:21:31  \n",
       "8669487                  9.99638e+17     17 2019-05-22 08:11:03  \n",
       "9280391                  1.51899e+17     12 2019-05-16 09:56:19  \n",
       "9503276                    2.685e+17      1 2019-05-03 11:39:23  "
      ]
     },
     "execution_count": 21,
     "metadata": {},
     "output_type": "execute_result"
    }
   ],
   "source": [
    "data_may_2019[data_may_2019['from_address'].isin(scam_addresses)]"
   ]
  },
  {
   "cell_type": "code",
   "execution_count": 22,
   "metadata": {},
   "outputs": [
    {
     "data": {
      "text/plain": [
       "(137, 5)"
      ]
     },
     "execution_count": 22,
     "metadata": {},
     "output_type": "execute_result"
    }
   ],
   "source": [
    "transactions_to_analyse = data_may_2019[data_may_2019['from_address'].isin(scam_addresses)]\n",
    "transactions_to_analyse = transactions_to_analyse.append(data_may_2019[data_may_2019['to_address'].isin(scam_addresses)])\n",
    "transactions_to_analyse = transactions_to_analyse.append(data_april_2019[data_april_2019['from_address'].isin(scam_addresses)])\n",
    "transactions_to_analyse = transactions_to_analyse.append(data_april_2019[data_april_2019['to_address'].isin(scam_addresses)])\n",
    "transactions_to_analyse.drop_duplicates(inplace=True)\n",
    "transactions_to_analyse.shape"
   ]
  },
  {
   "cell_type": "code",
   "execution_count": 23,
   "metadata": {},
   "outputs": [
    {
     "data": {
      "text/plain": [
       "74"
      ]
     },
     "execution_count": 23,
     "metadata": {},
     "output_type": "execute_result"
    }
   ],
   "source": [
    "transactions_to_analyse['from_address'].nunique()"
   ]
  },
  {
   "cell_type": "code",
   "execution_count": 24,
   "metadata": {},
   "outputs": [
    {
     "data": {
      "text/plain": [
       "23"
      ]
     },
     "execution_count": 24,
     "metadata": {},
     "output_type": "execute_result"
    }
   ],
   "source": [
    "transactions_to_analyse['to_address'].nunique()"
   ]
  },
  {
   "cell_type": "code",
   "execution_count": 24,
   "metadata": {},
   "outputs": [
    {
     "data": {
      "text/html": [
       "<div>\n",
       "<style scoped>\n",
       "    .dataframe tbody tr th:only-of-type {\n",
       "        vertical-align: middle;\n",
       "    }\n",
       "\n",
       "    .dataframe tbody tr th {\n",
       "        vertical-align: top;\n",
       "    }\n",
       "\n",
       "    .dataframe thead th {\n",
       "        text-align: right;\n",
       "    }\n",
       "</style>\n",
       "<table border=\"1\" class=\"dataframe\">\n",
       "  <thead>\n",
       "    <tr style=\"text-align: right;\">\n",
       "      <th></th>\n",
       "      <th>from_address</th>\n",
       "      <th>to_address</th>\n",
       "      <th>value</th>\n",
       "      <th>nonce</th>\n",
       "      <th>block_timestamp</th>\n",
       "    </tr>\n",
       "  </thead>\n",
       "  <tbody>\n",
       "    <tr>\n",
       "      <th>120805</th>\n",
       "      <td>0x7c9001c50ea57c1b2ec1e3e63cf04c297534bfc1</td>\n",
       "      <td>0x4fed1fc4144c223ae3c1553be203cdfcbd38c581</td>\n",
       "      <td>9.895e+16</td>\n",
       "      <td>12</td>\n",
       "      <td>2019-05-18 16:48:25</td>\n",
       "    </tr>\n",
       "    <tr>\n",
       "      <th>149864</th>\n",
       "      <td>0x7c9001c50ea57c1b2ec1e3e63cf04c297534bfc1</td>\n",
       "      <td>0x4fed1fc4144c223ae3c1553be203cdfcbd38c581</td>\n",
       "      <td>2.8749e+15</td>\n",
       "      <td>15</td>\n",
       "      <td>2019-05-20 05:48:27</td>\n",
       "    </tr>\n",
       "    <tr>\n",
       "      <th>496618</th>\n",
       "      <td>0xbad41e5412ebaf22b8ec127521060fd9fa29bbdd</td>\n",
       "      <td>0x0064454b14cddc990ed6520ef94d3e28fe7c41b6</td>\n",
       "      <td>4.66e+14</td>\n",
       "      <td>13</td>\n",
       "      <td>2019-05-17 04:07:38</td>\n",
       "    </tr>\n",
       "    <tr>\n",
       "      <th>539673</th>\n",
       "      <td>0x482729ad79e5da6c48c0e7a4b3e67ba13ceb7404</td>\n",
       "      <td>0x4fed1fc4144c223ae3c1553be203cdfcbd38c581</td>\n",
       "      <td>1.4868e+16</td>\n",
       "      <td>16</td>\n",
       "      <td>2019-05-01 01:28:38</td>\n",
       "    </tr>\n",
       "    <tr>\n",
       "      <th>765663</th>\n",
       "      <td>0x7a023247e70ad842b0c1226e09185b461a1cd47d</td>\n",
       "      <td>0x4fed1fc4144c223ae3c1553be203cdfcbd38c581</td>\n",
       "      <td>5.0395e+17</td>\n",
       "      <td>0</td>\n",
       "      <td>2019-05-26 03:51:50</td>\n",
       "    </tr>\n",
       "    <tr>\n",
       "      <th>...</th>\n",
       "      <td>...</td>\n",
       "      <td>...</td>\n",
       "      <td>...</td>\n",
       "      <td>...</td>\n",
       "      <td>...</td>\n",
       "    </tr>\n",
       "    <tr>\n",
       "      <th>8792190</th>\n",
       "      <td>0xd551234ae421e3bcba99a0da6d736074f22192ff</td>\n",
       "      <td>0x482729ad79e5da6c48c0e7a4b3e67ba13ceb7404</td>\n",
       "      <td>1.1008e+18</td>\n",
       "      <td>1368888</td>\n",
       "      <td>2019-04-01 21:52:17</td>\n",
       "    </tr>\n",
       "    <tr>\n",
       "      <th>8948610</th>\n",
       "      <td>0xfcb356b88765502b05ac135d3530c65113d99f4b</td>\n",
       "      <td>0x71c7656ec7ab88b098defb751b7401b5f6d8976f</td>\n",
       "      <td>4.71013e+14</td>\n",
       "      <td>1631</td>\n",
       "      <td>2019-04-29 18:12:48</td>\n",
       "    </tr>\n",
       "    <tr>\n",
       "      <th>9042739</th>\n",
       "      <td>0xe83dc1d9f5aa8223acb090be5c14877df8c3f71b</td>\n",
       "      <td>0x482729ad79e5da6c48c0e7a4b3e67ba13ceb7404</td>\n",
       "      <td>1.33296e+17</td>\n",
       "      <td>22775</td>\n",
       "      <td>2019-04-02 20:41:15</td>\n",
       "    </tr>\n",
       "    <tr>\n",
       "      <th>9322439</th>\n",
       "      <td>0x4a96a62f191a0b9db56ed4efe227563efe40e265</td>\n",
       "      <td>0x482729ad79e5da6c48c0e7a4b3e67ba13ceb7404</td>\n",
       "      <td>1.33998e+17</td>\n",
       "      <td>0</td>\n",
       "      <td>2019-04-24 09:27:07</td>\n",
       "    </tr>\n",
       "    <tr>\n",
       "      <th>9353399</th>\n",
       "      <td>0x8b93101623b19f7bd7d4651c3d8594b7ff36f92a</td>\n",
       "      <td>0x482729ad79e5da6c48c0e7a4b3e67ba13ceb7404</td>\n",
       "      <td>4.54448e+16</td>\n",
       "      <td>1</td>\n",
       "      <td>2019-04-07 09:55:59</td>\n",
       "    </tr>\n",
       "  </tbody>\n",
       "</table>\n",
       "<p>137 rows × 5 columns</p>\n",
       "</div>"
      ],
      "text/plain": [
       "                                       from_address  \\\n",
       "120805   0x7c9001c50ea57c1b2ec1e3e63cf04c297534bfc1   \n",
       "149864   0x7c9001c50ea57c1b2ec1e3e63cf04c297534bfc1   \n",
       "496618   0xbad41e5412ebaf22b8ec127521060fd9fa29bbdd   \n",
       "539673   0x482729ad79e5da6c48c0e7a4b3e67ba13ceb7404   \n",
       "765663   0x7a023247e70ad842b0c1226e09185b461a1cd47d   \n",
       "...                                             ...   \n",
       "8792190  0xd551234ae421e3bcba99a0da6d736074f22192ff   \n",
       "8948610  0xfcb356b88765502b05ac135d3530c65113d99f4b   \n",
       "9042739  0xe83dc1d9f5aa8223acb090be5c14877df8c3f71b   \n",
       "9322439  0x4a96a62f191a0b9db56ed4efe227563efe40e265   \n",
       "9353399  0x8b93101623b19f7bd7d4651c3d8594b7ff36f92a   \n",
       "\n",
       "                                         to_address        value    nonce  \\\n",
       "120805   0x4fed1fc4144c223ae3c1553be203cdfcbd38c581    9.895e+16       12   \n",
       "149864   0x4fed1fc4144c223ae3c1553be203cdfcbd38c581   2.8749e+15       15   \n",
       "496618   0x0064454b14cddc990ed6520ef94d3e28fe7c41b6     4.66e+14       13   \n",
       "539673   0x4fed1fc4144c223ae3c1553be203cdfcbd38c581   1.4868e+16       16   \n",
       "765663   0x4fed1fc4144c223ae3c1553be203cdfcbd38c581   5.0395e+17        0   \n",
       "...                                             ...          ...      ...   \n",
       "8792190  0x482729ad79e5da6c48c0e7a4b3e67ba13ceb7404   1.1008e+18  1368888   \n",
       "8948610  0x71c7656ec7ab88b098defb751b7401b5f6d8976f  4.71013e+14     1631   \n",
       "9042739  0x482729ad79e5da6c48c0e7a4b3e67ba13ceb7404  1.33296e+17    22775   \n",
       "9322439  0x482729ad79e5da6c48c0e7a4b3e67ba13ceb7404  1.33998e+17        0   \n",
       "9353399  0x482729ad79e5da6c48c0e7a4b3e67ba13ceb7404  4.54448e+16        1   \n",
       "\n",
       "            block_timestamp  \n",
       "120805  2019-05-18 16:48:25  \n",
       "149864  2019-05-20 05:48:27  \n",
       "496618  2019-05-17 04:07:38  \n",
       "539673  2019-05-01 01:28:38  \n",
       "765663  2019-05-26 03:51:50  \n",
       "...                     ...  \n",
       "8792190 2019-04-01 21:52:17  \n",
       "8948610 2019-04-29 18:12:48  \n",
       "9042739 2019-04-02 20:41:15  \n",
       "9322439 2019-04-24 09:27:07  \n",
       "9353399 2019-04-07 09:55:59  \n",
       "\n",
       "[137 rows x 5 columns]"
      ]
     },
     "execution_count": 24,
     "metadata": {},
     "output_type": "execute_result"
    }
   ],
   "source": [
    "transactions_to_analyse"
   ]
  },
  {
   "cell_type": "code",
   "execution_count": 25,
   "metadata": {},
   "outputs": [],
   "source": [
    "data_concat = pd.concat([data_may_2019, data_april_2019])"
   ]
  },
  {
   "cell_type": "code",
   "execution_count": 26,
   "metadata": {},
   "outputs": [],
   "source": [
    "G_all = nx.from_pandas_edgelist(data_concat, source='from_address', target='to_address', edge_attr=['value', 'nonce', 'block_timestamp'], create_using=nx.Graph)"
   ]
  },
  {
   "cell_type": "code",
   "execution_count": 122,
   "metadata": {},
   "outputs": [],
   "source": [
    "G_may = nx.from_pandas_edgelist(data_may_2019, source='from_address', target='to_address', edge_attr=['value', 'nonce', 'block_timestamp'], create_using=nx.DiGraph)"
   ]
  },
  {
   "cell_type": "code",
   "execution_count": 27,
   "metadata": {},
   "outputs": [
    {
     "data": {
      "text/plain": [
       "17709"
      ]
     },
     "execution_count": 27,
     "metadata": {},
     "output_type": "execute_result"
    }
   ],
   "source": [
    "n = nx.all_neighbors(G_all, '0x4fed1fc4144c223ae3c1553be203cdfcbd38c581')\n",
    "len([i for i in n])"
   ]
  },
  {
   "cell_type": "code",
   "execution_count": 33,
   "metadata": {},
   "outputs": [
    {
     "data": {
      "image/png": "[encoded data removed]",
      "text/plain": [
       "<Figure size 432x288 with 1 Axes>"
      ]
     },
     "metadata": {},
     "output_type": "display_data"
    }
   ],
   "source": [
    "import matplotlib.pyplot as plt\n",
    "G = nx.from_pandas_edgelist(transactions_to_analyse, source='from_address', target='to_address', edge_attr=['value', 'nonce', 'block_timestamp'], create_using=nx.MultiDiGraph)\n",
    "\n",
    "color_map = []\n",
    "d = dict(G.degree)\n",
    "\n",
    "# nx.draw(g, nodelist=d.keys(), node_size=[v * 100 for v in d.values()])\n",
    "for node in G:\n",
    "#     if node == '0xd551234ae421e3bcba99a0da6d736074f22192ff':\n",
    "#         color_map.append('blue')\n",
    "    if node in scam_addresses:\n",
    "        color_map.append('red')\n",
    "    else: \n",
    "        color_map.append('green')\n",
    "import math\n",
    "pos = nx.spring_layout(G,k=0.1,iterations=10)\n",
    "nx.draw(G, pos=pos, node_color=color_map, node_size=[v * 20 for v in d.values()])\n",
    "plt.show()"
   ]
  },
  {
   "cell_type": "code",
   "execution_count": 34,
   "metadata": {},
   "outputs": [],
   "source": [
    "neighbours = []\n",
    "for node in G:\n",
    "    if node not in scam_addresses:\n",
    "        neighbours.append([n for n in nx.all_neighbors(G_all, node)])"
   ]
  },
  {
   "cell_type": "code",
   "execution_count": 35,
   "metadata": {},
   "outputs": [],
   "source": [
    "neighbours = [item for sublist in neighbours for item in sublist]"
   ]
  },
  {
   "cell_type": "code",
   "execution_count": 36,
   "metadata": {},
   "outputs": [],
   "source": [
    "neighbours = list(set(neighbours))"
   ]
  },
  {
   "cell_type": "code",
   "execution_count": 37,
   "metadata": {},
   "outputs": [
    {
     "data": {
      "text/plain": [
       "304240"
      ]
     },
     "execution_count": 37,
     "metadata": {},
     "output_type": "execute_result"
    }
   ],
   "source": [
    "len(neighbours)"
   ]
  },
  {
   "cell_type": "code",
   "execution_count": 49,
   "metadata": {},
   "outputs": [],
   "source": [
    "import random\n",
    "sampled_addresses = random.sample(neighbours, 2000)"
   ]
  },
  {
   "cell_type": "code",
   "execution_count": 41,
   "metadata": {},
   "outputs": [],
   "source": [
    "unique_addresses = data_concat['to_address'].unique() + data_concat['to_address'].unique()"
   ]
  },
  {
   "cell_type": "code",
   "execution_count": 50,
   "metadata": {},
   "outputs": [],
   "source": [
    "sampled_addresses2 = random.sample(list(unique_addresses), 2000)"
   ]
  },
  {
   "cell_type": "code",
   "execution_count": 51,
   "metadata": {},
   "outputs": [
    {
     "data": {
      "text/plain": [
       "(19044, 5)"
      ]
     },
     "execution_count": 51,
     "metadata": {},
     "output_type": "execute_result"
    }
   ],
   "source": [
    "final_data = pd.concat([data_concat[data_concat['to_address'].isin(sampled_addresses)],\n",
    "                      data_concat[data_concat['from_address'].isin(sampled_addresses)],\n",
    "                      data_concat[data_concat['to_address'].isin(sampled_addresses2)],\n",
    "                      data_concat[data_concat['to_address'].isin(sampled_addresses2)]])\n",
    "final_data.shape"
   ]
  },
  {
   "cell_type": "code",
   "execution_count": 52,
   "metadata": {},
   "outputs": [
    {
     "data": {
      "text/html": [
       "<div>\n",
       "<style scoped>\n",
       "    .dataframe tbody tr th:only-of-type {\n",
       "        vertical-align: middle;\n",
       "    }\n",
       "\n",
       "    .dataframe tbody tr th {\n",
       "        vertical-align: top;\n",
       "    }\n",
       "\n",
       "    .dataframe thead th {\n",
       "        text-align: right;\n",
       "    }\n",
       "</style>\n",
       "<table border=\"1\" class=\"dataframe\">\n",
       "  <thead>\n",
       "    <tr style=\"text-align: right;\">\n",
       "      <th></th>\n",
       "      <th>from_address</th>\n",
       "      <th>to_address</th>\n",
       "      <th>value</th>\n",
       "      <th>nonce</th>\n",
       "      <th>block_timestamp</th>\n",
       "    </tr>\n",
       "  </thead>\n",
       "  <tbody>\n",
       "    <tr>\n",
       "      <th>3608</th>\n",
       "      <td>0x0f1826d0fd45d86ff8c35870a1dc65240cb32279</td>\n",
       "      <td>0xe33c85d82e1c1e1b6445b0dfe5d1ef83ff5791b1</td>\n",
       "      <td>1.5e+17</td>\n",
       "      <td>50</td>\n",
       "      <td>2019-05-10 03:47:14</td>\n",
       "    </tr>\n",
       "    <tr>\n",
       "      <th>3924</th>\n",
       "      <td>0xea674fdde714fd979de3edf0f56aa9716b898ec8</td>\n",
       "      <td>0x6cf663b628edf91c939e883235377df8055a575e</td>\n",
       "      <td>5.0196e+16</td>\n",
       "      <td>20442083</td>\n",
       "      <td>2019-05-10 18:11:18</td>\n",
       "    </tr>\n",
       "    <tr>\n",
       "      <th>6666</th>\n",
       "      <td>0xea674fdde714fd979de3edf0f56aa9716b898ec8</td>\n",
       "      <td>0xe930ce36d9a25b21d845a9a1e4c956a90824671e</td>\n",
       "      <td>1.00119e+16</td>\n",
       "      <td>20433139</td>\n",
       "      <td>2019-05-10 05:54:03</td>\n",
       "    </tr>\n",
       "    <tr>\n",
       "      <th>7490</th>\n",
       "      <td>0x3caf346444d74c1d0dbde9e763915508b0026c37</td>\n",
       "      <td>0xee97c5f87f1d2335ac79a4de131822e3db9b90dc</td>\n",
       "      <td>2e+18</td>\n",
       "      <td>217</td>\n",
       "      <td>2019-05-10 05:02:44</td>\n",
       "    </tr>\n",
       "    <tr>\n",
       "      <th>8071</th>\n",
       "      <td>0x97e12bd75bdee72d4975d6df410d2d145b3d8457</td>\n",
       "      <td>0xa59e5d7941a81abf3398a72d214dd8096e5744a4</td>\n",
       "      <td>7.09637e+16</td>\n",
       "      <td>96860</td>\n",
       "      <td>2019-05-10 06:58:48</td>\n",
       "    </tr>\n",
       "  </tbody>\n",
       "</table>\n",
       "</div>"
      ],
      "text/plain": [
       "                                    from_address  \\\n",
       "3608  0x0f1826d0fd45d86ff8c35870a1dc65240cb32279   \n",
       "3924  0xea674fdde714fd979de3edf0f56aa9716b898ec8   \n",
       "6666  0xea674fdde714fd979de3edf0f56aa9716b898ec8   \n",
       "7490  0x3caf346444d74c1d0dbde9e763915508b0026c37   \n",
       "8071  0x97e12bd75bdee72d4975d6df410d2d145b3d8457   \n",
       "\n",
       "                                      to_address        value     nonce  \\\n",
       "3608  0xe33c85d82e1c1e1b6445b0dfe5d1ef83ff5791b1      1.5e+17        50   \n",
       "3924  0x6cf663b628edf91c939e883235377df8055a575e   5.0196e+16  20442083   \n",
       "6666  0xe930ce36d9a25b21d845a9a1e4c956a90824671e  1.00119e+16  20433139   \n",
       "7490  0xee97c5f87f1d2335ac79a4de131822e3db9b90dc        2e+18       217   \n",
       "8071  0xa59e5d7941a81abf3398a72d214dd8096e5744a4  7.09637e+16     96860   \n",
       "\n",
       "         block_timestamp  \n",
       "3608 2019-05-10 03:47:14  \n",
       "3924 2019-05-10 18:11:18  \n",
       "6666 2019-05-10 05:54:03  \n",
       "7490 2019-05-10 05:02:44  \n",
       "8071 2019-05-10 06:58:48  "
      ]
     },
     "execution_count": 52,
     "metadata": {},
     "output_type": "execute_result"
    }
   ],
   "source": [
    "final_data.head()"
   ]
  },
  {
   "cell_type": "code",
   "execution_count": 56,
   "metadata": {},
   "outputs": [],
   "source": [
    "def is_scam(row):\n",
    "    if row[\"from_address\"] in scam_addresses or row[\"to_address\"] in scam_addresses:\n",
    "        return 1 \n",
    "    return 0\n",
    "\n",
    "final_data_scams = pd.concat([final_data, transactions_to_analyse])\n",
    "\n",
    "final_data_scams[\"scam\"] = final_data_scams.apply(lambda row: is_scam(row), axis=1)"
   ]
  },
  {
   "cell_type": "code",
   "execution_count": 57,
   "metadata": {},
   "outputs": [
    {
     "data": {
      "text/plain": [
       "(19181, 6)"
      ]
     },
     "execution_count": 57,
     "metadata": {},
     "output_type": "execute_result"
    }
   ],
   "source": [
    "final_data_scams.shape"
   ]
  },
  {
   "cell_type": "code",
   "execution_count": 59,
   "metadata": {},
   "outputs": [
    {
     "data": {
      "text/plain": [
       "0    19044\n",
       "1      137\n",
       "Name: scam, dtype: int64"
      ]
     },
     "execution_count": 59,
     "metadata": {},
     "output_type": "execute_result"
    }
   ],
   "source": [
    "final_data_scams[\"scam\"].value_counts()"
   ]
  },
  {
   "cell_type": "code",
   "execution_count": 58,
   "metadata": {},
   "outputs": [
    {
     "data": {
      "text/html": [
       "<div>\n",
       "<style scoped>\n",
       "    .dataframe tbody tr th:only-of-type {\n",
       "        vertical-align: middle;\n",
       "    }\n",
       "\n",
       "    .dataframe tbody tr th {\n",
       "        vertical-align: top;\n",
       "    }\n",
       "\n",
       "    .dataframe thead th {\n",
       "        text-align: right;\n",
       "    }\n",
       "</style>\n",
       "<table border=\"1\" class=\"dataframe\">\n",
       "  <thead>\n",
       "    <tr style=\"text-align: right;\">\n",
       "      <th></th>\n",
       "      <th>from_address</th>\n",
       "      <th>to_address</th>\n",
       "      <th>value</th>\n",
       "      <th>nonce</th>\n",
       "      <th>block_timestamp</th>\n",
       "      <th>scam</th>\n",
       "    </tr>\n",
       "  </thead>\n",
       "  <tbody>\n",
       "    <tr>\n",
       "      <th>3608</th>\n",
       "      <td>0x0f1826d0fd45d86ff8c35870a1dc65240cb32279</td>\n",
       "      <td>0xe33c85d82e1c1e1b6445b0dfe5d1ef83ff5791b1</td>\n",
       "      <td>1.5e+17</td>\n",
       "      <td>50</td>\n",
       "      <td>2019-05-10 03:47:14</td>\n",
       "      <td>0</td>\n",
       "    </tr>\n",
       "    <tr>\n",
       "      <th>3924</th>\n",
       "      <td>0xea674fdde714fd979de3edf0f56aa9716b898ec8</td>\n",
       "      <td>0x6cf663b628edf91c939e883235377df8055a575e</td>\n",
       "      <td>5.0196e+16</td>\n",
       "      <td>20442083</td>\n",
       "      <td>2019-05-10 18:11:18</td>\n",
       "      <td>0</td>\n",
       "    </tr>\n",
       "    <tr>\n",
       "      <th>6666</th>\n",
       "      <td>0xea674fdde714fd979de3edf0f56aa9716b898ec8</td>\n",
       "      <td>0xe930ce36d9a25b21d845a9a1e4c956a90824671e</td>\n",
       "      <td>1.00119e+16</td>\n",
       "      <td>20433139</td>\n",
       "      <td>2019-05-10 05:54:03</td>\n",
       "      <td>0</td>\n",
       "    </tr>\n",
       "    <tr>\n",
       "      <th>7490</th>\n",
       "      <td>0x3caf346444d74c1d0dbde9e763915508b0026c37</td>\n",
       "      <td>0xee97c5f87f1d2335ac79a4de131822e3db9b90dc</td>\n",
       "      <td>2e+18</td>\n",
       "      <td>217</td>\n",
       "      <td>2019-05-10 05:02:44</td>\n",
       "      <td>0</td>\n",
       "    </tr>\n",
       "    <tr>\n",
       "      <th>8071</th>\n",
       "      <td>0x97e12bd75bdee72d4975d6df410d2d145b3d8457</td>\n",
       "      <td>0xa59e5d7941a81abf3398a72d214dd8096e5744a4</td>\n",
       "      <td>7.09637e+16</td>\n",
       "      <td>96860</td>\n",
       "      <td>2019-05-10 06:58:48</td>\n",
       "      <td>0</td>\n",
       "    </tr>\n",
       "  </tbody>\n",
       "</table>\n",
       "</div>"
      ],
      "text/plain": [
       "                                    from_address  \\\n",
       "3608  0x0f1826d0fd45d86ff8c35870a1dc65240cb32279   \n",
       "3924  0xea674fdde714fd979de3edf0f56aa9716b898ec8   \n",
       "6666  0xea674fdde714fd979de3edf0f56aa9716b898ec8   \n",
       "7490  0x3caf346444d74c1d0dbde9e763915508b0026c37   \n",
       "8071  0x97e12bd75bdee72d4975d6df410d2d145b3d8457   \n",
       "\n",
       "                                      to_address        value     nonce  \\\n",
       "3608  0xe33c85d82e1c1e1b6445b0dfe5d1ef83ff5791b1      1.5e+17        50   \n",
       "3924  0x6cf663b628edf91c939e883235377df8055a575e   5.0196e+16  20442083   \n",
       "6666  0xe930ce36d9a25b21d845a9a1e4c956a90824671e  1.00119e+16  20433139   \n",
       "7490  0xee97c5f87f1d2335ac79a4de131822e3db9b90dc        2e+18       217   \n",
       "8071  0xa59e5d7941a81abf3398a72d214dd8096e5744a4  7.09637e+16     96860   \n",
       "\n",
       "         block_timestamp  scam  \n",
       "3608 2019-05-10 03:47:14     0  \n",
       "3924 2019-05-10 18:11:18     0  \n",
       "6666 2019-05-10 05:54:03     0  \n",
       "7490 2019-05-10 05:02:44     0  \n",
       "8071 2019-05-10 06:58:48     0  "
      ]
     },
     "execution_count": 58,
     "metadata": {},
     "output_type": "execute_result"
    }
   ],
   "source": [
    "final_data_scams.head()"
   ]
  },
  {
   "cell_type": "code",
   "execution_count": 61,
   "metadata": {},
   "outputs": [],
   "source": [
    "final_data_scams.to_csv(\"final_data_scam.csv\", index=False)"
   ]
  },
  {
   "cell_type": "code",
   "execution_count": 60,
   "metadata": {},
   "outputs": [
    {
     "name": "stderr",
     "output_type": "stream",
     "text": [
      "C:\\Users\\djaniak\\AppData\\Local\\Continuum\\anaconda3\\lib\\site-packages\\networkx\\drawing\\nx_pylab.py:563: MatplotlibDeprecationWarning: \n",
      "The iterable function was deprecated in Matplotlib 3.1 and will be removed in 3.3. Use np.iterable instead.\n",
      "  if not cb.iterable(width):\n",
      "C:\\Users\\djaniak\\AppData\\Local\\Continuum\\anaconda3\\lib\\site-packages\\networkx\\drawing\\nx_pylab.py:660: MatplotlibDeprecationWarning: \n",
      "The iterable function was deprecated in Matplotlib 3.1 and will be removed in 3.3. Use np.iterable instead.\n",
      "  if cb.iterable(node_size):  # many node sizes\n"
     ]
    },
    {
     "data": {
      "image/png": "[encoded data removed]",
      "text/plain": [
       "<Figure size 432x288 with 1 Axes>"
      ]
     },
     "metadata": {},
     "output_type": "display_data"
    }
   ],
   "source": [
    "G_final = nx.from_pandas_edgelist(final_data, source='from_address', target='to_address', edge_attr=['value', 'nonce', 'block_timestamp'], create_using=nx.MultiDiGraph)\n",
    "\n",
    "pos = nx.spring_layout(G_final, k=0.1,iterations=10)\n",
    "nx.draw(G_final, pos=pos)\n",
    "plt.show()"
   ]
  },
  {
   "cell_type": "code",
   "execution_count": null,
   "metadata": {},
   "outputs": [],
   "source": []
  }
 ],
 "metadata": {
  "hide_input": false,
  "kernelspec": {
   "display_name": "Python 3",
   "language": "python",
   "name": "python3"
  },
  "language_info": {
   "codemirror_mode": {
    "name": "ipython",
    "version": 3
   },
   "file_extension": ".py",
   "mimetype": "text/x-python",
   "name": "python",
   "nbconvert_exporter": "python",
   "pygments_lexer": "ipython3",
   "version": "3.7.3"
  }
 },
 "nbformat": 4,
 "nbformat_minor": 2
}
